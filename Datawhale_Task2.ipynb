{
 "cells": [
  {
   "cell_type": "markdown",
   "metadata": {},
   "source": [
    "# Mission  特征工程\n",
    "---\n",
    "\n",
    "\n",
    "## 任务\n",
    "分别用IV值和随机森林挑选特征，再构建模型，进行模型评估"
   ]
  },
  {
   "cell_type": "code",
   "execution_count": 8,
   "metadata": {},
   "outputs": [],
   "source": [
    "# 导入需要的包\n",
    "import pandas as pd\n",
    "import numpy as np\n",
    "from sklearn.model_selection import train_test_split, GridSearchCV\n",
    "from sklearn.metrics import roc_auc_score, roc_curve, accuracy_score, f1_score, classification_report\n",
    "from model_config import clfs\n",
    "\n",
    "# 设置 pandas 显示列数\n",
    "pd.set_option('display.max_columns', 10000)\n",
    "pd.set_option('display.width', 10000)"
   ]
  },
  {
   "cell_type": "markdown",
   "metadata": {},
   "source": [
    "## 1. 导入数据，2. 特征处理"
   ]
  },
  {
   "cell_type": "code",
   "execution_count": 43,
   "metadata": {},
   "outputs": [
    {
     "name": "stdout",
     "output_type": "stream",
     "text": [
      "X.shape: (4754, 89)\n",
      "y 的分布\n",
      " 0    3561\n",
      "1    1193\n",
      "Name: status, dtype: int64\n"
     ]
    }
   ],
   "source": [
    "# 假设前面我们已经将处理好的数据存到一个 cl_data.pkl 的文件\n",
    "import pickle as pkl\n",
    "with open('./data/cl_data.pkl', 'rb') as f:\n",
    "    cl_data = pkl.load(f)\n",
    "\n",
    "X_cl = cl_data['X_cl']\n",
    "y = cl_data['y']\n",
    "\n",
    "# 数据构成\n",
    "print('X.shape:', X_cl.shape)\n",
    "print('y 的分布\\n', y.value_counts())"
   ]
  },
  {
   "cell_type": "markdown",
   "metadata": {},
   "source": [
    "### 2.1 使用 IV 值进行特征筛选\n"
   ]
  },
  {
   "cell_type": "code",
   "execution_count": 51,
   "metadata": {},
   "outputs": [],
   "source": [
    "# 计算 IV 函数\n",
    "def cal_iv(x, y, n_bins=6, null_value=np.nan,):\n",
    "    # 剔除空值\n",
    "    x = x[x != null_value]\n",
    "    \n",
    "    # 若 x 只有一个值，返回 0\n",
    "    if len(x.unique()) == 1 or len(x) != len(y):\n",
    "        return 0\n",
    "    \n",
    "    if x.dtype == np.number:\n",
    "        # 数值型变量\n",
    "        if x.nunique() > n_bins:\n",
    "            # 若 nunique 大于箱数，进行分箱\n",
    "            x = pd.qcut(x, q=n_bins, duplicates='drop')\n",
    "                \n",
    "    # 计算IV\n",
    "    groups = x.groupby([x, list(y)]).size().unstack().fillna(0)\n",
    "    t0, t1 = y.value_counts().index\n",
    "#     if null_value is not np.nan:\n",
    "#         groups = groups.loc[groups.index != null_value, :]\n",
    "    groups = groups / groups.sum()\n",
    "    not_zero_index = (groups[t0] > 0) & (groups[t1] > 0)\n",
    "    groups['iv_i'] = (groups[t0] - groups[t1]) * np.log(groups[t0] / groups[t1])\n",
    "#     groups.loc[~not_zero_index, 'iv_i'] = 0\n",
    "#     groups['woe'] = np.log(groups[t0] / groups[t1])\n",
    "#     groups.loc[~not_zero_index, 'woe'] = 0\n",
    "    iv = sum(groups['iv_i'])\n",
    "#     woe_map = groups['woe']\n",
    "\n",
    "    return iv"
   ]
  },
  {
   "cell_type": "code",
   "execution_count": 52,
   "metadata": {
    "scrolled": true
   },
   "outputs": [
    {
     "name": "stdout",
     "output_type": "stream",
     "text": [
      "trans_fail_top_count_enum_last_1_month        0.594725\n",
      "history_fail_fee                              0.523103\n",
      "loans_score                                   0.433950\n",
      "apply_score                                   0.383065\n",
      "loans_overdue_count                           0.337394\n",
      "trans_fail_top_count_enum_last_12_month       0.242439\n",
      "latest_one_month_fail                         0.233159\n",
      "trans_fail_top_count_enum_last_6_month        0.226004\n",
      "latest_one_month_suc                          0.141729\n",
      "rank_trad_1_month                             0.111234\n",
      "max_cumulative_consume_later_1_month          0.108685\n",
      "trans_day_last_12_month                       0.093933\n",
      "top_trans_count_last_1_month                  0.065016\n",
      "consfin_avg_limit                             0.057349\n",
      "pawns_auctions_trusts_consume_last_1_month    0.050321\n",
      "trans_amount_3_month                          0.041933\n",
      "consfin_credit_limit                          0.041048\n",
      "consume_mini_time_last_1_month                0.040272\n",
      "trans_top_time_last_1_month                   0.039396\n",
      "consume_top_time_last_1_month                 0.038723\n",
      "latest_query_day                              0.036744\n",
      "avg_price_last_12_month                       0.033462\n",
      "avg_price_top_last_12_valid_month             0.030315\n",
      "latest_six_month_loan                         0.030265\n",
      "consfin_max_limit                             0.023901\n",
      "middle_volume_percent                         0.021287\n",
      "query_cash_count                              0.019511\n",
      "trans_days_interval                           0.019007\n",
      "first_transaction_time                        0.018611\n",
      "first_transaction_day                         0.018004\n",
      "                                                ...   \n",
      "loans_credit_limit                            0.007830\n",
      "historical_trans_day                          0.007548\n",
      "loans_credibility_behavior                    0.007375\n",
      "loans_settle_count                            0.006918\n",
      "apply_credibility                             0.006900\n",
      "loans_product_count                           0.006589\n",
      "trans_activity_day                            0.006475\n",
      "latest_one_month_loan                         0.005784\n",
      "history_suc_fee                               0.005739\n",
      "query_org_count                               0.005551\n",
      "avg_consume_less_12_valid_month               0.005132\n",
      "repayment_capability                          0.004515\n",
      "transd_mcc                                    0.004069\n",
      "trans_activity_month                          0.003992\n",
      "loans_avg_limit                               0.003868\n",
      "take_amount_in_later_12_month_highest         0.003530\n",
      "latest_query_time_weekday                     0.003503\n",
      "loans_latest_time_weekday                     0.003288\n",
      "query_sum_count                               0.003274\n",
      "query_finance_count                           0.003058\n",
      "二线城市                                          0.002386\n",
      "境外                                            0.002098\n",
      "latest_six_month_apply                        0.001938\n",
      "其他城市                                          0.001220\n",
      "student_feature                               0.000956\n",
      "一线城市                                          0.000550\n",
      "三线城市                                          0.000457\n",
      "is_high_user                                  0.000000\n",
      "railway_consume_count_last_12_month           0.000000\n",
      "jewelry_consume_count_last_6_month            0.000000\n",
      "Length: 89, dtype: float64\n"
     ]
    }
   ],
   "source": [
    "# 统计每个特征对应的 iv 值\n",
    "fea_iv = X_cl.apply(lambda x: cal_iv(x, y), axis=0).sort_values(ascending=False)\n",
    "print(fea_iv)"
   ]
  },
  {
   "cell_type": "code",
   "execution_count": 26,
   "metadata": {},
   "outputs": [
    {
     "data": {
      "text/plain": [
       "Index(['trans_fail_top_count_enum_last_1_month', 'history_fail_fee', 'loans_score', 'apply_score', 'loans_overdue_count', 'trans_fail_top_count_enum_last_12_month', 'latest_one_month_fail', 'trans_fail_top_count_enum_last_6_month', 'latest_one_month_suc', 'rank_trad_1_month', 'max_cumulative_consume_later_1_month', 'trans_day_last_12_month', 'top_trans_count_last_1_month', 'consfin_avg_limit', 'pawns_auctions_trusts_consume_last_1_month'], dtype='object')"
      ]
     },
     "execution_count": 26,
     "metadata": {},
     "output_type": "execute_result"
    }
   ],
   "source": [
    "# 筛选 IV > 0.1 的特征\n",
    "imp_fea_iv = fea_iv[fea_iv > 0.05].index\n",
    "imp_fea_iv"
   ]
  },
  {
   "cell_type": "markdown",
   "metadata": {},
   "source": [
    "### 2.2 使用 随机森林 进行特征筛选"
   ]
  },
  {
   "cell_type": "code",
   "execution_count": 30,
   "metadata": {},
   "outputs": [
    {
     "name": "stdout",
     "output_type": "stream",
     "text": [
      "trans_fail_top_count_enum_last_1_month        0.048011\n",
      "history_fail_fee                              0.038843\n",
      "apply_score                                   0.029526\n",
      "loans_score                                   0.026811\n",
      "latest_one_month_fail                         0.024758\n",
      "trans_fail_top_count_enum_last_6_month        0.023462\n",
      "loans_overdue_count                           0.018845\n",
      "max_cumulative_consume_later_1_month          0.018648\n",
      "trans_amount_3_month                          0.018372\n",
      "avg_price_last_12_month                       0.017161\n",
      "historical_trans_amount                       0.016864\n",
      "loans_latest_day                              0.016319\n",
      "repayment_capability                          0.016282\n",
      "first_transaction_day                         0.016248\n",
      "trans_days_interval_filter                    0.016159\n",
      "consfin_avg_limit                             0.014916\n",
      "loans_count                                   0.014770\n",
      "first_transaction_time                        0.014636\n",
      "trans_fail_top_count_enum_last_12_month       0.014399\n",
      "rank_trad_1_month                             0.014282\n",
      "loans_max_limit                               0.014251\n",
      "trans_activity_day                            0.014146\n",
      "trans_day_last_12_month                       0.013727\n",
      "trans_days_interval                           0.013587\n",
      "latest_three_month_apply                      0.013374\n",
      "pawns_auctions_trusts_consume_last_6_month    0.013367\n",
      "trans_top_time_last_6_month                   0.013156\n",
      "loans_avg_limit                               0.013008\n",
      "historical_trans_day                          0.012894\n",
      "consfin_max_limit                             0.012794\n",
      "                                                ...   \n",
      "latest_one_month_suc                          0.008694\n",
      "trans_top_time_last_1_month                   0.008683\n",
      "middle_volume_percent                         0.008575\n",
      "consfin_product_count                         0.008484\n",
      "low_volume_percent                            0.008442\n",
      "avg_consume_less_12_valid_month               0.008002\n",
      "pawns_auctions_trusts_consume_last_1_month    0.007494\n",
      "loans_latest_time_weekday                     0.007098\n",
      "loans_org_count_current                       0.006898\n",
      "avg_price_top_last_12_valid_month             0.006683\n",
      "consfin_credibility                           0.006614\n",
      "consfin_org_count_behavior                    0.006359\n",
      "latest_query_time_weekday                     0.006273\n",
      "consume_mini_time_last_1_month                0.006028\n",
      "latest_query_time_month                       0.005410\n",
      "consfin_org_count_current                     0.005332\n",
      "loans_latest_time_month                       0.005198\n",
      "query_cash_count                              0.005115\n",
      "regional_mobility                             0.004616\n",
      "latest_one_month_loan                         0.002350\n",
      "cross_consume_count_last_1_month              0.002161\n",
      "student_feature                               0.002034\n",
      "三线城市                                          0.001898\n",
      "一线城市                                          0.001250\n",
      "境外                                            0.000955\n",
      "二线城市                                          0.000653\n",
      "其他城市                                          0.000000\n",
      "jewelry_consume_count_last_6_month            0.000000\n",
      "railway_consume_count_last_12_month           0.000000\n",
      "is_high_user                                  0.000000\n",
      "Length: 89, dtype: float64\n"
     ]
    }
   ],
   "source": [
    "from sklearn.ensemble import RandomForestClassifier\n",
    "\n",
    "rf = RandomForestClassifier()\n",
    "rf.fit(X_cl, y)\n",
    "\n",
    "rf_impc = pd.Series(rf.feature_importances_, index=X_cl.columns).sort_values(ascending=False)\n",
    "print(rf_impc)"
   ]
  },
  {
   "cell_type": "code",
   "execution_count": 53,
   "metadata": {},
   "outputs": [
    {
     "data": {
      "text/plain": [
       "Index(['trans_fail_top_count_enum_last_1_month', 'history_fail_fee', 'apply_score', 'loans_score', 'latest_one_month_fail', 'trans_fail_top_count_enum_last_6_month', 'loans_overdue_count', 'max_cumulative_consume_later_1_month', 'trans_amount_3_month', 'avg_price_last_12_month', 'historical_trans_amount', 'loans_latest_day', 'repayment_capability', 'first_transaction_day', 'trans_days_interval_filter'], dtype='object')"
      ]
     },
     "execution_count": 53,
     "metadata": {},
     "output_type": "execute_result"
    }
   ],
   "source": [
    "# 筛选 重要性前十五 个特征\n",
    "imp_fea_rf = rf_impc.index[:15]\n",
    "imp_fea_rf"
   ]
  },
  {
   "cell_type": "code",
   "execution_count": 55,
   "metadata": {},
   "outputs": [],
   "source": [
    "# fea_iv.to_csv('iv_by_long.csv')\n",
    "# rf_impc.to_csv('rf_by_long.csv')"
   ]
  },
  {
   "cell_type": "code",
   "execution_count": 44,
   "metadata": {},
   "outputs": [
    {
     "data": {
      "text/plain": [
       "(4754, 22)"
      ]
     },
     "execution_count": 44,
     "metadata": {},
     "output_type": "execute_result"
    }
   ],
   "source": [
    "# 合并特征并筛选出有用特征\n",
    "imp_fea = list(set(imp_fea_iv) | set(imp_fea_rf))\n",
    "X_imp = X_cl[imp_fea]\n",
    "X_imp.shape"
   ]
  },
  {
   "cell_type": "markdown",
   "metadata": {},
   "source": [
    "## 3. 数据划分\n",
    "为了避免训练集太少，使用 二八 分"
   ]
  },
  {
   "cell_type": "code",
   "execution_count": 45,
   "metadata": {},
   "outputs": [
    {
     "name": "stdout",
     "output_type": "stream",
     "text": [
      "(3803, 22)\n",
      "(951, 22)\n"
     ]
    }
   ],
   "source": [
    "from sklearn.model_selection import train_test_split\n",
    "random_state = 1115\n",
    "X_train, X_test, y_train, y_test = train_test_split(X_imp, y, test_size=0.2, random_state=random_state)\n",
    "print(X_train.shape)\n",
    "print(X_test.shape)"
   ]
  },
  {
   "cell_type": "code",
   "execution_count": 46,
   "metadata": {},
   "outputs": [],
   "source": [
    "# 数据归一化\n",
    "from sklearn.preprocessing import StandardScaler\n",
    "ss = StandardScaler()\n",
    "X_train_std = ss.fit_transform(X_train)\n",
    "X_test_std = ss.transform(X_test)"
   ]
  },
  {
   "cell_type": "markdown",
   "metadata": {},
   "source": [
    "## 4. 建模，5. 调参\n",
    "假设已经将经过调完参数的模型存放在 model_config 的 clfs 中"
   ]
  },
  {
   "cell_type": "code",
   "execution_count": 47,
   "metadata": {},
   "outputs": [],
   "source": [
    "from sklearn.linear_model import LogisticRegression\n",
    "from sklearn.svm import SVC\n",
    "from sklearn.tree import DecisionTreeClassifier\n",
    "from xgboost.sklearn import XGBClassifier\n",
    "from lightgbm.sklearn import LGBMClassifier\n",
    "\n",
    "# 读取模型\n",
    "lr = clfs.get('lr')\n",
    "linear_svc = clfs.get('linear_svc')\n",
    "poly_svc = clfs.get('poly_svc')\n",
    "dt = clfs.get('dt')\n",
    "xgb_model = clfs.get('xgb')\n",
    "lgb_model = clfs.get('lgb')"
   ]
  },
  {
   "cell_type": "markdown",
   "metadata": {},
   "source": [
    "## 6. 模型融合 stacking\n",
    "关于stacking的原理：[stacking 模型融合](https://blog.csdn.net/yc1203968305/article/details/73526615)\n",
    "\n",
    "为了贯彻调包侠的理念，这里直接调用 mlxtend 库里面的 StackingCVClassifier 进行建模，这个库可以很好地完成对 sklearn 的 stacking。参考：[StackingClassifier](https://blog.csdn.net/github_35965351/article/details/60763606)"
   ]
  },
  {
   "cell_type": "code",
   "execution_count": 48,
   "metadata": {},
   "outputs": [
    {
     "name": "stdout",
     "output_type": "stream",
     "text": [
      "Fitting 3 classifiers...\n",
      "Fitting classifier1: svc (1/3)\n",
      "SVC(C=1, cache_size=200, class_weight=None, coef0=0.0,\n",
      "  decision_function_shape='ovr', degree=3, gamma='auto', kernel='linear',\n",
      "  max_iter=-1, probability=True, random_state=None, shrinking=True,\n",
      "  tol=0.001, verbose=1)\n",
      "[LibSVM]Fitting classifier2: xgbclassifier (2/3)\n",
      "XGBClassifier(base_score=0.5, booster='gbtree', colsample_bylevel=1,\n",
      "       colsample_bytree=0.8, gamma=0, learning_rate=0.1, max_delta_step=0,\n",
      "       max_depth=5, min_child_weight=1, missing=None, n_estimators=42,\n",
      "       n_jobs=1, nthread=4, objective='binary:logistic', random_state=0,\n",
      "       reg_alpha=0, reg_lambda=1, scale_pos_weight=1, seed=112,\n",
      "       silent=True, subsample=0.8)\n",
      "Fitting classifier3: lgbmclassifier (3/3)\n",
      "LGBMClassifier(boosting_type='gbdt', class_weight=None, colsample_bytree=0.8,\n",
      "        gamma=0, importance_type='split', learning_rate=0.1, max_depth=5,\n",
      "        min_child_samples=20, min_child_weight=1, min_split_gain=0.0,\n",
      "        n_estimators=42, n_jobs=-1, nthread=4, num_leaves=31,\n",
      "        objective=None, random_state=None, reg_alpha=0.0, reg_lambda=0.0,\n",
      "        scale_pos_weight=1, seed=112, silent=True, subsample=0.8,\n",
      "        subsample_for_bin=200000, subsample_freq=0)\n"
     ]
    },
    {
     "data": {
      "text/plain": [
       "StackingClassifier(average_probas=False,\n",
       "          classifiers=[SVC(C=1, cache_size=200, class_weight=None, coef0=0.0,\n",
       "  decision_function_shape='ovr', degree=3, gamma='auto', kernel='linear',\n",
       "  max_iter=-1, probability=True, random_state=None, shrinking=True,\n",
       "  tol=0.001, verbose=False), XGBClassifier(base_score=0.5, booster='gbtree', colsample_byl...weight=1, seed=112, silent=True, subsample=0.8,\n",
       "        subsample_for_bin=200000, subsample_freq=0)],\n",
       "          meta_classifier=LogisticRegression(C=0.1, class_weight=None, dual=False, fit_intercept=True,\n",
       "          intercept_scaling=1, max_iter=100, multi_class='ovr', n_jobs=1,\n",
       "          penalty='l1', random_state=None, solver='liblinear', tol=0.0001,\n",
       "          verbose=0, warm_start=False),\n",
       "          store_train_meta_features=False, use_clones=True,\n",
       "          use_features_in_secondary=False, use_probas=True, verbose=3)"
      ]
     },
     "execution_count": 48,
     "metadata": {},
     "output_type": "execute_result"
    }
   ],
   "source": [
    "from mlxtend.classifier import StackingCVClassifier, StackingClassifier\n",
    "\n",
    "# 构建 Stacking 模型，因为 dt 评分太低了，所以抛弃掉，使用 lr 作为最后的融合模型\n",
    "s_clf = StackingClassifier(classifiers=[linear_svc, xgb_model, lgb_model], \n",
    "                             meta_classifier=lr, use_probas=True, verbose=3)\n",
    "\n",
    "s_clf.fit(X_train_std, y_train)"
   ]
  },
  {
   "cell_type": "code",
   "execution_count": 50,
   "metadata": {},
   "outputs": [
    {
     "name": "stdout",
     "output_type": "stream",
     "text": [
      "准确性：\n",
      "Train：0.9019\n",
      "Test：0.7886\n",
      "精确率：\n",
      "Train：0.8748\n",
      "Test：0.6264\n",
      "召回率：\n",
      "Train：0.7078\n",
      "Test：0.4449\n",
      "f1_score：\n",
      "Train：0.7825\n",
      "Test：0.5203\n",
      "roc_auc：\n",
      "Train：0.9476\n",
      "Test：0.7651\n",
      "KS：\n",
      "Train：0.7501\n",
      "Test：0.3994\n"
     ]
    },
    {
     "data": {
      "image/png": "[encoded data removed]",
      "text/plain": [
       "<matplotlib.figure.Figure at 0x2113fec9240>"
      ]
     },
     "metadata": {},
     "output_type": "display_data"
    }
   ],
   "source": [
    "# 评估 Stacking 模型\n",
    "model_metrics(s_clf, X_train_std, X_test_std, y_train, y_test)"
   ]
  },
  {
   "cell_type": "markdown",
   "metadata": {},
   "source": [
    "## 5. 评估"
   ]
  },
  {
   "cell_type": "code",
   "execution_count": 49,
   "metadata": {},
   "outputs": [],
   "source": [
    "from sklearn.metrics import accuracy_score, precision_score, recall_score, f1_score, roc_auc_score, roc_curve, precision_recall_curve\n",
    "from matplotlib import pyplot as plt\n",
    "# 定义评估函数\n",
    "def model_metrics(clf, X_train, X_test, y_train, y_test, i=0):\n",
    "    # 预测\n",
    "    y_train_pred = clf.predict(X_train)\n",
    "    y_test_pred = clf.predict(X_test)\n",
    "    y_train_pred_proba = clf.predict_proba(X_train)[:, 1]\n",
    "    y_test_pred_proba = clf.predict_proba(X_test)[:, 1]\n",
    "\n",
    "    # 评估\n",
    "    # 准确性\n",
    "    print('准确性：')\n",
    "    print('Train：{:.4f}'.format(accuracy_score(y_train, y_train_pred)))\n",
    "    print('Test：{:.4f}'.format(accuracy_score(y_test, y_test_pred)))\n",
    "    \n",
    "    # 精准率\n",
    "    print('精确率：')\n",
    "    print('Train：{:.4f}'.format(precision_score(y_train, y_train_pred)))\n",
    "    print('Test：{:.4f}'.format(precision_score(y_test, y_test_pred)))\n",
    "\n",
    "    # 召回率\n",
    "    print('召回率：')\n",
    "    print('Train：{:.4f}'.format(recall_score(y_train, y_train_pred)))\n",
    "    print('Test：{:.4f}'.format(recall_score(y_test, y_test_pred)))\n",
    "    \n",
    "    # f1_score\n",
    "    print('f1_score：')\n",
    "    print('Train：{:.4f}'.format(f1_score(y_train, y_train_pred)))\n",
    "    print('Test：{:.4f}'.format(f1_score(y_test, y_test_pred)))\n",
    "    \n",
    "    # roc_auc\n",
    "    print('roc_auc：')\n",
    "    print('Train：{:.4f}'.format(roc_auc_score(y_train, y_train_pred_proba)))\n",
    "    print('Test：{:.4f}'.format(roc_auc_score(y_test, y_test_pred_proba)))    \n",
    "    \n",
    "    # 描绘 ROC 曲线\n",
    "    fpr_tr, tpr_tr, _ = roc_curve(y_train, y_train_pred_proba)\n",
    "    fpr_te, tpr_te, _ = roc_curve(y_test, y_test_pred_proba)\n",
    "\n",
    "    # KS\n",
    "    print('KS：')\n",
    "    print('Train：{:.4f}'.format(max(abs((fpr_tr - tpr_tr)))))\n",
    "    print('Test：{:.4f}'.format(max(abs((fpr_te - tpr_te)))))\n",
    "\n",
    "    # 绘图\n",
    "    plt.figure(i)\n",
    "    plt.plot(fpr_tr, tpr_tr, 'r-',\n",
    "             label=\"Train:AUC: {:.3f} KS:{:.3f}\".format(roc_auc_score(y_train, y_train_pred_proba), \n",
    "                                                        max(abs((fpr_tr - tpr_tr)))))\n",
    "    plt.plot(fpr_te, tpr_te, 'g-',\n",
    "             label=\"Test:AUC: {:.3f} KS:{:.3f}\".format(roc_auc_score(y_test, y_test_pred_proba),\n",
    "                                                     max(abs((fpr_te - tpr_te)))))\n",
    "    plt.plot([0, 1], [0, 1], 'd--')\n",
    "    plt.legend(loc='best')\n",
    "    plt.title(\"ROC curse\")\n",
    "    plt.show()"
   ]
  }
 ],
 "metadata": {
  "kernelspec": {
   "display_name": "Python 3",
   "language": "python",
   "name": "python3"
  },
  "language_info": {
   "codemirror_mode": {
    "name": "ipython",
    "version": 3
   },
   "file_extension": ".py",
   "mimetype": "text/x-python",
   "name": "python",
   "nbconvert_exporter": "python",
   "pygments_lexer": "ipython3",
   "version": "3.7.3"
  }
 },
 "nbformat": 4,
 "nbformat_minor": 1
}
